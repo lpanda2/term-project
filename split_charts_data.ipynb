{
 "cells": [
  {
   "cell_type": "code",
   "execution_count": 1,
   "metadata": {},
   "outputs": [],
   "source": [
    "import pandas as pd\n",
    "import numpy as np\n",
    "import datetime as dt\n",
    "import os\n",
    "import functools\n",
    "from collections import defaultdict\n",
    "import hashlib\n",
    "\n",
    "from IPython.core.interactiveshell import InteractiveShell\n",
    "InteractiveShell.ast_node_interactivity = \"all\"\n",
    "\n",
    "_g = globals()"
   ]
  },
  {
   "cell_type": "markdown",
   "metadata": {},
   "source": [
    "**Chunk Data**\n",
    "---\n",
    "Chunk through the charts data and create bins that are hash maps of the hadm_id key."
   ]
  },
  {
   "cell_type": "code",
   "execution_count": 4,
   "metadata": {},
   "outputs": [
    {
     "name": "stdout",
     "output_type": "stream",
     "text": [
      "chunk 14 --> (20000000, 15)\n",
      "chunk 15 --> (20000000, 15)\n",
      "chunk 16 --> (10712483, 15)\n"
     ]
    }
   ],
   "source": [
    "datadir = 'data/'\n",
    "table_name = 'chartevents'\n",
    "fname = table_name.upper() + '.csv.gz'\n",
    "\n",
    "data = pd.read_csv(f'data/{fname}', dtype=str, encoding='latin1', \n",
    "                   compression='gzip', chunksize=(10**7)*2)\n",
    "\n",
    "def append_to_csv(data, fname):\n",
    "    if os.path.exists(fname):\n",
    "        data.to_csv(fname, index=False, mode='a')\n",
    "    else:\n",
    "        data.to_csv(fname, index=False)\n",
    "\n",
    "for i, chunk in enumerate(data):\n",
    "    print(f'chunk {i} --> {chunk.shape}')\n",
    "    chunk.columns = [x.lower() for x in chunk]\n",
    "    chunk.hadm_id = [hashlib.md5(x.encode()).hexdigest()[0] for x in chunk.hadm_id.values]\n",
    "    for bin_ in chunk.hadm_id.unique():\n",
    "        sub = chunk.loc[chunk.hadm_id == bin_]\n",
    "        append_to_csv(sub, 'split-data/' + table_name + '/' + f'bin_{bin_}.csv')"
   ]
  },
  {
   "cell_type": "code",
   "execution_count": null,
   "metadata": {},
   "outputs": [],
   "source": []
  }
 ],
 "metadata": {
  "kernelspec": {
   "display_name": "Python 3",
   "language": "python",
   "name": "python3"
  },
  "language_info": {
   "codemirror_mode": {
    "name": "ipython",
    "version": 3
   },
   "file_extension": ".py",
   "mimetype": "text/x-python",
   "name": "python",
   "nbconvert_exporter": "python",
   "pygments_lexer": "ipython3",
   "version": "3.6.6"
  }
 },
 "nbformat": 4,
 "nbformat_minor": 4
}
