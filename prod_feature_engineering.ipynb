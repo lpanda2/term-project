{
 "cells": [
  {
   "cell_type": "code",
   "execution_count": null,
   "metadata": {},
   "outputs": [],
   "source": [
    "from feature_engineering_utilities import *\n",
    "from IPython.core.interactiveshell import InteractiveShell\n",
    "InteractiveShell.ast_node_interactivity = \"all\""
   ]
  },
  {
   "cell_type": "markdown",
   "metadata": {},
   "source": [
    "**Observations with Labels**\n",
    "---\n",
    "Using the icd-hcc crosswalk, the icd diagnosis data for each admission and the admissions table, create a labeled dataset with the target variable. We will use this dataframe as the scaffolding to generate all the features that we need and then merge them on. The goal of this ipython notebook is to parse through all the different tables and create a final feature dataset that we can use for our modeling exercise."
   ]
  },
  {
   "cell_type": "code",
   "execution_count": null,
   "metadata": {},
   "outputs": [],
   "source": [
    "icdxw = read_crosswalk()\n",
    "diagnoses_icd = read_prod_data('diagnoses_icd')\n",
    "admissions = read_prod_data('admissions')\n",
    "df = add_aki_hcc_label(diagnoses_icd, icdxw, admissions)\n",
    "hcc_data = create_hcc_labeled_dataset(diagnoses_icd, icdxw)\n",
    "\n",
    "printer('labeled dataset')\n",
    "df.shape\n",
    "df.sample(5)\n",
    "df.hcc_cd_135.value_counts(normalize=True)\n",
    "del diagnoses_icd\n",
    "del icdxw"
   ]
  },
  {
   "cell_type": "markdown",
   "metadata": {},
   "source": [
    "Notice that 20% of the data are positives. We might want to consider undersampling the negatives or oversampling the positives (when we model the data) so that we can have an even distribution of this event."
   ]
  },
  {
   "cell_type": "markdown",
   "metadata": {},
   "source": [
    "**Demographic Features**\n",
    "---\n",
    "Read in the patients table and create demographic features. Some of the main risk factors for \"Acute Kidney Injury\" (AKI) are **age**, **gender** and **ethnicity**. We also pull out the **admission type** of the stay to see if knowing that the hospital admission was due to an emergency condition or an elective procedure could be useful to us."
   ]
  },
  {
   "cell_type": "code",
   "execution_count": null,
   "metadata": {},
   "outputs": [],
   "source": [
    "patients = read_prod_data('patients')\n",
    "demographic_features = create_demographics_features(admissions, patients)\n",
    "del patients\n",
    "printer('demographic features')\n",
    "demographic_features.shape\n",
    "demographic_features.columns\n",
    "demographic_features.sample(5)"
   ]
  },
  {
   "cell_type": "markdown",
   "metadata": {},
   "source": [
    "Note that some members don't have an age because they were so old that it might have been too easy to identify them. \n",
    "Therefore, their dates of birth were nulled out to protect their identity."
   ]
  },
  {
   "cell_type": "markdown",
   "metadata": {},
   "source": [
    "**HCC's for Comorbidities**\n",
    "---\n",
    "Create features for HCCs that are comorbidities."
   ]
  },
  {
   "cell_type": "code",
   "execution_count": null,
   "metadata": {},
   "outputs": [],
   "source": [
    "diabetes_hcc_feature = create_hcc_feature(hcc_data, label='_19', rename_as='hcc_cd_19_dbtes_wo_comp')\n",
    "ckd5_hcc_feature = create_hcc_feature(hcc_data, label='_136', rename_as='hcc_cd_136_ckd_stg_5')\n",
    "ckd4_hcc_feature = create_hcc_feature(hcc_data, label='_137', rename_as='hcc_cd_137_ckd_stg_4')\n",
    "chf_hcc_feature = create_hcc_feature(hcc_data, label='_85', rename_as='hcc_cd_85_chf')\n",
    "vascular_disease_hcc_feature = create_hcc_feature(hcc_data, label='_108', rename_as='hcc_cd_108_vascular')\n",
    "\n",
    "del hcc_data\n",
    "printer('hcc features')\n",
    "diabetes_hcc_feature.shape\n",
    "ckd5_hcc_feature.shape\n",
    "ckd4_hcc_feature.shape\n",
    "chf_hcc_feature.shape\n",
    "vascular_disease_hcc_feature.shape\n",
    "vascular_disease_hcc_feature.sample(5)"
   ]
  },
  {
   "cell_type": "markdown",
   "metadata": {},
   "source": [
    "**Prior Admissions / ICU Stays**\n",
    "---"
   ]
  },
  {
   "cell_type": "code",
   "execution_count": null,
   "metadata": {},
   "outputs": [],
   "source": [
    "# admissions, icu stays\n",
    "icustays = read_prod_data('icustays')\n",
    "prior_admission_features = create_prior_admissions(admissions, icustays)\n",
    "del icustays"
   ]
  },
  {
   "cell_type": "markdown",
   "metadata": {},
   "source": [
    "**Prescriptions that are nephrotoxins**\n",
    "---"
   ]
  },
  {
   "cell_type": "code",
   "execution_count": null,
   "metadata": {},
   "outputs": [],
   "source": [
    "# prescription\n",
    "prescriptions = read_prod_data('prescriptions')\n",
    "nephrotoxin_features = add_nephrotoxin_features(prescriptions, admissions)\n",
    "del prescriptions"
   ]
  },
  {
   "cell_type": "code",
   "execution_count": null,
   "metadata": {},
   "outputs": [],
   "source": [
    "nephrotoxin_features.describe().T.sort_values('mean', ascending=False).head()"
   ]
  },
  {
   "cell_type": "markdown",
   "metadata": {},
   "source": [
    "**Contrast Imaging Procedures**\n",
    "---"
   ]
  },
  {
   "cell_type": "code",
   "execution_count": null,
   "metadata": {},
   "outputs": [],
   "source": [
    "cptevents = read_prod_data('cptevents')\n",
    "contrast_imaging_feature = create_contrast_imaging_feature(cptevents)\n",
    "# del cptevents"
   ]
  },
  {
   "cell_type": "code",
   "execution_count": null,
   "metadata": {},
   "outputs": [],
   "source": [
    "cptevents.head()"
   ]
  },
  {
   "cell_type": "code",
   "execution_count": null,
   "metadata": {},
   "outputs": [],
   "source": [
    "cptevents.loc[cptevents.description.notnull()]"
   ]
  },
  {
   "cell_type": "markdown",
   "metadata": {},
   "source": [
    "**Charts Data**\n",
    "---\n",
    "View the feature space that's created for the chart data. Each feature space looks at another data point in the charts table."
   ]
  },
  {
   "cell_type": "code",
   "execution_count": null,
   "metadata": {},
   "outputs": [],
   "source": [
    "# one_bin = False"
   ]
  },
  {
   "cell_type": "code",
   "execution_count": null,
   "metadata": {},
   "outputs": [],
   "source": [
    "# d_items = read_prod_data('d_items')\n",
    "\n",
    "# if not one_bin:\n",
    "#     bins = [hex(i)[2] + c for i in range(0, 16) for c in [hex(d)[2] for d in range(0, 16)]]   \n",
    "# else:\n",
    "#     bins = ['00', 'ff', '22', '3e']\n",
    "\n",
    "# # chart features\n",
    "# chart_features = [charts_data_wrapper(b, \n",
    "#                                       d_items, \n",
    "#                                       df, \n",
    "#                                       demographic_features,\n",
    "#                                      i) for i,b in enumerate(bins)]\n",
    "# chart_features = pd.concat(chart_features, sort=False)\n",
    "\n",
    "# del d_items\n",
    "# printer('charts features')\n",
    "# chart_features.shape\n",
    "# chart_features.columns\n",
    "# chart_features.sample(5)"
   ]
  },
  {
   "cell_type": "code",
   "execution_count": null,
   "metadata": {},
   "outputs": [],
   "source": [
    "# chart_features.to_csv(result_dir + 'chart_features.csv', index=False)"
   ]
  },
  {
   "cell_type": "code",
   "execution_count": null,
   "metadata": {},
   "outputs": [],
   "source": [
    "chart_features = pd.read_csv(result_dir + 'chart_features.csv', dtype={'hadm_id': str})"
   ]
  },
  {
   "cell_type": "code",
   "execution_count": null,
   "metadata": {},
   "outputs": [],
   "source": [
    "chart_features.describe().T.sort_values('mean', ascending=False)"
   ]
  },
  {
   "cell_type": "code",
   "execution_count": null,
   "metadata": {},
   "outputs": [],
   "source": [
    "result_dir\n",
    "\n",
    "\n",
    "\n",
    "#[x for x in _g if 'feature' in x]\n",
    "    \n",
    "\n",
    "\n",
    "\n",
    "    # chart data\n",
    "\n",
    "\n",
    "\n",
    "    #data.to_csv(result_dir + 'features.csv', index=False)\n"
   ]
  },
  {
   "cell_type": "markdown",
   "metadata": {},
   "source": [
    "**Merge & Create Final Dataframe**\n",
    "---"
   ]
  },
  {
   "cell_type": "code",
   "execution_count": null,
   "metadata": {},
   "outputs": [],
   "source": [
    "features = [\n",
    "    df.drop(['subject_id', 'admittime', 'dischtime'], axis=1),\n",
    "    demographic_features,\n",
    "    chart_features,\n",
    "    diabetes_hcc_feature,\n",
    "    ckd4_hcc_feature,\n",
    "    ckd5_hcc_feature,\n",
    "    chf_hcc_feature,\n",
    "    vascular_disease_hcc_feature,\n",
    "    prior_admission_features,\n",
    "    nephrotoxin_features,\n",
    "    contrast_imaging_feature\n",
    "]\n",
    "\n",
    "data = merge_features(features)\n",
    "printer('final dataframe')\n",
    "print(data.shape)"
   ]
  },
  {
   "cell_type": "code",
   "execution_count": null,
   "metadata": {},
   "outputs": [],
   "source": [
    "data.describe()"
   ]
  },
  {
   "cell_type": "code",
   "execution_count": null,
   "metadata": {},
   "outputs": [],
   "source": [
    "data.to_csv(result_dir + 'all_features.csv', index=False)"
   ]
  },
  {
   "cell_type": "code",
   "execution_count": null,
   "metadata": {},
   "outputs": [],
   "source": []
  }
 ],
 "metadata": {
  "kernelspec": {
   "display_name": "Python 3",
   "language": "python",
   "name": "python3"
  },
  "language_info": {
   "codemirror_mode": {
    "name": "ipython",
    "version": 3
   },
   "file_extension": ".py",
   "mimetype": "text/x-python",
   "name": "python",
   "nbconvert_exporter": "python",
   "pygments_lexer": "ipython3",
   "version": "3.6.6"
  }
 },
 "nbformat": 4,
 "nbformat_minor": 4
}
